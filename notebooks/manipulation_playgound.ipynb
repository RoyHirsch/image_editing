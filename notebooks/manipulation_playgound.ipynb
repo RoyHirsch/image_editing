{
 "cells": [
  {
   "cell_type": "code",
   "execution_count": 1,
   "metadata": {},
   "outputs": [],
   "source": [
    "import sys\n",
    "sys.path.append('/home/royhirsch_google_com/image_editing')\n",
    "\n",
    "import os\n",
    "import pickle\n",
    "from tqdm import tqdm\n",
    "import numpy as np\n",
    "from PIL import Image\n",
    "import matplotlib.pyplot as plt\n",
    "import torch\n",
    "from functools import partial\n",
    "from diffusers import StableDiffusionPipeline, EulerDiscreteScheduler, DPMSolverMultistepScheduler\n",
    "\n"
   ]
  },
  {
   "cell_type": "markdown",
   "metadata": {},
   "source": [
    "# Run over multiple examples"
   ]
  },
  {
   "cell_type": "code",
   "execution_count": 2,
   "metadata": {},
   "outputs": [],
   "source": [
    "cat_dog_questions = [\n",
    "    {\n",
    "        'question': 'Is there a cat in the photo?',\n",
    "        'choices': ['yes', 'no'],\n",
    "        'answer': 'yes',\n",
    "    },\n",
    "    {\n",
    "        'question': 'Is there a dog in the photo?',\n",
    "        'choices': ['yes', 'no'],\n",
    "        'answer': 'yes',\n",
    "    },\n",
    "    {\n",
    "        'question': 'Is there only a single cat in the photo?',\n",
    "        'choices': ['yes', 'no'],\n",
    "        'answer': 'yes',\n",
    "    },\n",
    "    {\n",
    "        'question': 'Is there only a single dog in the photo?',\n",
    "        'choices': ['yes', 'no'],\n",
    "        'answer': 'yes',\n",
    "    },\n",
    "    {\n",
    "        'question': 'Is the cat is black?',\n",
    "        'choices': ['yes', 'no'],\n",
    "        'answer': 'yes',\n",
    "    },\n",
    "    {\n",
    "        'question': 'Is the dog is white?',\n",
    "        'choices': ['yes', 'no'],\n",
    "        'answer': 'yes',\n",
    "    },\n",
    "    {\n",
    "        'question': 'What is the color of the dog?',\n",
    "        'choices': ['white', 'black'],\n",
    "        'answer': 'white',\n",
    "    },\n",
    "    {\n",
    "        'question': 'What is the color of the cat?',\n",
    "        'choices': ['white', 'black'],\n",
    "        'answer': 'black',\n",
    "    },\n",
    "    {\n",
    "        'question': 'Is it a photo?',\n",
    "        'choices': ['no', 'yes'],\n",
    "        'answer': 'yes',\n",
    "    },\n",
    "    {\n",
    "        'question': 'How many cats in the photo?',\n",
    "        'choices': ['1', '2', '3'],\n",
    "        'answer': '1',\n",
    "    },\n",
    "    {\n",
    "        'question': 'How many dogs in the photo?',\n",
    "        'choices': ['1', '2', '3'],\n",
    "        'answer': '1',\n",
    "    },\n",
    "\n",
    "]"
   ]
  },
  {
   "cell_type": "code",
   "execution_count": 3,
   "metadata": {},
   "outputs": [
    {
     "name": "stderr",
     "output_type": "stream",
     "text": [
      "2024-12-21 15:14:46,565 - modelscope - INFO - PyTorch version 2.4.1 Found.\n",
      "2024-12-21 15:14:46,568 - modelscope - INFO - Loading ast index from /home/royhirsch_google_com/.cache/modelscope/ast_indexer\n",
      "2024-12-21 15:14:46,607 - modelscope - INFO - Loading done! Current index file version is 1.15.0, with md5 dd6cd450cea4253ebfcef352dd4b0b56 and a total number of 980 components indexed\n"
     ]
    },
    {
     "name": "stdout",
     "output_type": "stream",
     "text": [
      "Loading mplug-large...\n"
     ]
    },
    {
     "name": "stderr",
     "output_type": "stream",
     "text": [
      "2024-12-21 15:14:50,176 - modelscope - WARNING - Model revision not specified, use revision: v1.0.0\n",
      "2024-12-21 15:14:50,650 - modelscope - INFO - initiate model from /home/royhirsch_google_com/.cache/modelscope/hub/damo/mplug_visual-question-answering_coco_large_en\n",
      "2024-12-21 15:14:50,651 - modelscope - INFO - initiate model from location /home/royhirsch_google_com/.cache/modelscope/hub/damo/mplug_visual-question-answering_coco_large_en.\n",
      "2024-12-21 15:14:50,653 - modelscope - INFO - initialize model from /home/royhirsch_google_com/.cache/modelscope/hub/damo/mplug_visual-question-answering_coco_large_en\n",
      "/home/royhirsch_google_com/.local/lib/python3.8/site-packages/timm/models/layers/__init__.py:48: FutureWarning: Importing from timm.models.layers is deprecated, please import via timm.layers\n",
      "  warnings.warn(f\"Importing from {__name__} is deprecated, please import via timm.layers\", FutureWarning)\n",
      "/opt/conda/envs/ml/lib/python3.8/site-packages/transformers/tokenization_utils_base.py:2102: FutureWarning: Calling BertTokenizer.from_pretrained() with the path to a single file or url is deprecated and won't be possible anymore in v5. Use a model identifier or the path to a directory instead.\n",
      "  warnings.warn(\n",
      "/home/royhirsch_google_com/.local/lib/python3.8/site-packages/modelscope/models/multi_modal/mplug/modeling_mplug.py:1873: FutureWarning: You are using `torch.load` with `weights_only=False` (the current default value), which uses the default pickle module implicitly. It is possible to construct malicious pickle data which will execute arbitrary code during unpickling (See https://github.com/pytorch/pytorch/blob/main/SECURITY.md#untrusted-models for more details). In a future release, the default value for `weights_only` will be flipped to `True`. This limits the functions that could be executed during unpickling. Arbitrary objects will no longer be allowed to be loaded via this mode unless they are explicitly allowlisted by the user via `torch.serialization.add_safe_globals`. We recommend you start setting `weights_only=True` for any use case where you don't have full control of the loaded file. Please open an issue on GitHub for any issues related to this experimental feature.\n",
      "  checkpoint = torch.load(checkpoint_path, map_location='cpu')\n"
     ]
    },
    {
     "name": "stdout",
     "output_type": "stream",
     "text": [
      "load checkpoint from /home/royhirsch_google_com/.cache/modelscope/hub/damo/mplug_visual-question-answering_coco_large_en/pytorch_model.bin\n",
      "<All keys matched successfully>\n",
      "Finish loading mplug-large\n",
      "Using SBERT on GPU\n"
     ]
    }
   ],
   "source": [
    "from tifa_utils import TifaAutoRater\n",
    "tifa = TifaAutoRater()"
   ]
  },
  {
   "cell_type": "code",
   "execution_count": null,
   "metadata": {},
   "outputs": [],
   "source": [
    "all_results = []\n",
    "for path in [\n",
    "    '/home/royhirsch_google_com/image_editing/cat_dog_sd2_1__0_49.pickle',\n",
    "    '/home/royhirsch_google_com/image_editing/cat_dog_sd2_1__50_99.pickle',\n",
    "    '/home/royhirsch_google_com/image_editing/cat_dog_sd2_1__100_149.pickle',\n",
    "    '/home/royhirsch_google_com/image_editing/cat_dog_sd2_1__150_199.pickle',\n",
    "]:\n",
    "    with open(path, 'rb') as f:\n",
    "        results = pickle.load(f)\n",
    "        all_results += results['results']\n",
    "\n",
    "inxd2score = {}\n",
    "for item in all_results:\n",
    "    image = item['image'].astype(np.uint8)\n",
    "    image = Image.fromarray(image)\n",
    "    score = tifa.get_score('/home/royhirsch_google_com/image_editing/cat_dog_images/0_image.png', cat_dog_questions)\n",
    "    inxd2score[item['seed']] = score\n",
    "\n",
    "with open('/home/royhirsch_google_com/image_editing/cat_dog_images/tifa_scores.pickle', 'wb') as f:\n",
    "    pickle.dump(\n",
    "        {\n",
    "            'inxd2score': inxd2score,\n",
    "            'questions': cat_dog_questions\n",
    "         },\n",
    "        f)\n"
   ]
  },
  {
   "cell_type": "markdown",
   "metadata": {},
   "source": [
    "# Manipulate"
   ]
  },
  {
   "cell_type": "code",
   "execution_count": 3,
   "metadata": {},
   "outputs": [
    {
     "data": {
      "text/plain": [
       "200"
      ]
     },
     "execution_count": 3,
     "metadata": {},
     "output_type": "execute_result"
    }
   ],
   "source": [
    "all_results = []\n",
    "for path in [\n",
    "    '/home/royhirsch_google_com/image_editing/cat_dog_sd2_1__0_49.pickle',\n",
    "    '/home/royhirsch_google_com/image_editing/cat_dog_sd2_1__50_99.pickle',\n",
    "    '/home/royhirsch_google_com/image_editing/cat_dog_sd2_1__100_149.pickle',\n",
    "    '/home/royhirsch_google_com/image_editing/cat_dog_sd2_1__150_199.pickle',\n",
    "]:\n",
    "    with open(path, 'rb') as f:\n",
    "        results = pickle.load(f)\n",
    "        all_results += results['results']\n",
    "\n",
    "with open('/home/royhirsch_google_com/image_editing/cat_dog_images/tifa_scores.pickle', 'rb') as f:\n",
    "    inxd2score = pickle.load(f)['inxd2score']\n",
    "\n",
    "len(all_results)"
   ]
  },
  {
   "cell_type": "code",
   "execution_count": null,
   "metadata": {},
   "outputs": [
    {
     "data": {
      "text/plain": [
       "(array([ 1.,  0., 29.,  0., 32.,  0., 37.,  0., 99.,  2.]),\n",
       " array([0.25  , 0.3125, 0.375 , 0.4375, 0.5   , 0.5625, 0.625 , 0.6875,\n",
       "        0.75  , 0.8125, 0.875 ]),\n",
       " <BarContainer object of 10 artists>)"
      ]
     },
     "execution_count": 15,
     "metadata": {},
     "output_type": "execute_result"
    },
    {
     "data": {
      "image/png": "[encoded data removed]",
      "text/plain": [
       "<Figure size 640x480 with 1 Axes>"
      ]
     },
     "metadata": {},
     "output_type": "display_data"
    }
   ],
   "source": [
    "plt.hist(list(inxd2score.values()))"
   ]
  },
  {
   "cell_type": "code",
   "execution_count": 16,
   "metadata": {},
   "outputs": [
    {
     "data": {
      "application/vnd.jupyter.widget-view+json": {
       "model_id": "522f24ee41ea4c77bfca29dc8600c057",
       "version_major": 2,
       "version_minor": 0
      },
      "text/plain": [
       "Loading pipeline components...:   0%|          | 0/6 [00:00<?, ?it/s]"
      ]
     },
     "metadata": {},
     "output_type": "display_data"
    }
   ],
   "source": [
    "device = torch.device('cuda:0')\n",
    "torch_dtype = torch.float16\n",
    "model_id = \"stabilityai/stable-diffusion-2\"\n",
    "scheduler = EulerDiscreteScheduler.from_pretrained(model_id, subfolder=\"scheduler\")\n",
    "pipe = StableDiffusionPipeline.from_pretrained(model_id, scheduler=scheduler, torch_dtype=torch_dtype)\n",
    "pipe = pipe.to(device)"
   ]
  },
  {
   "cell_type": "code",
   "execution_count": 9,
   "metadata": {},
   "outputs": [
    {
     "name": "stdout",
     "output_type": "stream",
     "text": [
      "101 99\n",
      "50 torch.Size([2, 320, 48, 48])\n",
      "50 torch.Size([2, 320, 48, 48])\n"
     ]
    }
   ],
   "source": [
    "# results['results'] is a list of dicts\n",
    "# the key 'h_space' is a dict, each entry is a list of tensors\n",
    "\n",
    "layer_name = 'down_zero'\n",
    "\n",
    "# inxd2h_space Dict[int, List[torch.tensor]]\n",
    "inxd2h_space = {}\n",
    "for item in all_results:\n",
    "    inxd2h_space[item['seed']] = item['h_space'][layer_name]\n",
    "\n",
    "thresh = 0.75\n",
    "pos_examples = [h_space for ind, h_space in inxd2h_space.items() if inxd2score[ind] >= thresh]\n",
    "neg_examples = [h_space for ind, h_space in inxd2h_space.items() if inxd2score[ind] < thresh]\n",
    "print(len(pos_examples), len(neg_examples))\n",
    "\n",
    "\n",
    "def get_average_list(h_space_list):\n",
    "    num_steps = len(h_space_list[0])\n",
    "    mean_latents = []\n",
    "    for i in range(num_steps):\n",
    "        mean_latents.append(torch.stack([item[i].detach().cpu() for item in h_space_list]).mean(0))\n",
    "    return mean_latents\n",
    "\n",
    "\n",
    "pos_mid  = get_average_list(pos_examples)\n",
    "neg_mid  = get_average_list(neg_examples)\n",
    "print(len(pos_mid), pos_mid[0].shape)\n",
    "print(len(neg_mid), neg_mid[0].shape)\n",
    "\n",
    "move_vectors = [p - n for p, n in zip(pos_mid, neg_mid)]\n",
    "rand_move_vectors = [torch.rand_like(item) for item in move_vectors]"
   ]
  },
  {
   "cell_type": "code",
   "execution_count": null,
   "metadata": {},
   "outputs": [],
   "source": [
    "factors = [0, 1, 2, 4]\n",
    "seed = 307\n",
    "\n",
    "prompt = \"A photo of a black cat with a white dog\"\n",
    "\n",
    "def modify_down_h_space(module, input, output, factor, step=[0]):\n",
    "    sample = output[0]\n",
    "    change = factor * move_vectors[step[0]].to(sample.device)\n",
    "    step[0] += 1\n",
    "    sample += change\n",
    "    return tuple([sample] + list(output[1:]))\n",
    "\n",
    "def modify_mid_h_space(module, input, output, factor, step=[0]):\n",
    "    change = factor * move_vectors[step[0]].to(output.device)\n",
    "    step[0] += 1\n",
    "    return output + change\n",
    "\n",
    "modify_h_space_func = modify_down_h_space if 'down' in layer_name else modify_mid_h_space\n",
    "\n",
    "fig, axes = plt.subplots(1, len(factors), figsize=(len(factors) * 5, 10)) \n",
    "with torch.no_grad():\n",
    "    for ind, factor in enumerate(factors):\n",
    "        if 'down' in layer_name:\n",
    "            num = {'zero': 0, 'one': 1, 'two': 2, 'three': 3}[layer_name.split('_')[1]]\n",
    "            hook = pipe.unet.down_blocks[num].register_forward_hook(\n",
    "                partial(modify_h_space_func, factor=factor, step=[0]))\n",
    "        else:\n",
    "            hook = pipe.unet.mid_block.register_forward_hook(\n",
    "                partial(modify_h_space_func, factor=factor, step=[0]))\n",
    "            \n",
    "        generator = torch.Generator(device=device).manual_seed(seed)\n",
    "        image = pipe(prompt, generator=generator).images[0]\n",
    "        hook.remove()\n",
    "        \n",
    "        score = tifa.get_score(image, cat_dog_questions)\n",
    "        axes[ind].imshow(image)\n",
    "        axes[ind].set_title('Factor: {} Tifa: {:.3f}'.format(factor, score))\n",
    "        axes[ind].axis('off')\n",
    "\n",
    "plt.show()"
   ]
  },
  {
   "cell_type": "markdown",
   "metadata": {},
   "source": [
    "# Quantiative results "
   ]
  },
  {
   "cell_type": "code",
   "execution_count": 17,
   "metadata": {},
   "outputs": [
    {
     "name": "stdout",
     "output_type": "stream",
     "text": [
      "###300###\n"
     ]
    },
    {
     "data": {
      "application/vnd.jupyter.widget-view+json": {
       "model_id": "ab2e40701e4b46f88be1540e9b00917d",
       "version_major": 2,
       "version_minor": 0
      },
      "text/plain": [
       "  0%|          | 0/50 [00:00<?, ?it/s]"
      ]
     },
     "metadata": {},
     "output_type": "display_data"
    },
    {
     "data": {
      "application/vnd.jupyter.widget-view+json": {
       "model_id": "d37277dbe2654542843d25c18fd3fbff",
       "version_major": 2,
       "version_minor": 0
      },
      "text/plain": [
       "  0%|          | 0/50 [00:00<?, ?it/s]"
      ]
     },
     "metadata": {},
     "output_type": "display_data"
    },
    {
     "data": {
      "application/vnd.jupyter.widget-view+json": {
       "model_id": "63af3c9a7cc84e2b815ffe9a8d5dbc18",
       "version_major": 2,
       "version_minor": 0
      },
      "text/plain": [
       "  0%|          | 0/50 [00:00<?, ?it/s]"
      ]
     },
     "metadata": {},
     "output_type": "display_data"
    },
    {
     "name": "stdout",
     "output_type": "stream",
     "text": [
      "###301###\n"
     ]
    },
    {
     "data": {
      "application/vnd.jupyter.widget-view+json": {
       "model_id": "bcdd780a42474845b515089845aa84ef",
       "version_major": 2,
       "version_minor": 0
      },
      "text/plain": [
       "  0%|          | 0/50 [00:00<?, ?it/s]"
      ]
     },
     "metadata": {},
     "output_type": "display_data"
    },
    {
     "data": {
      "application/vnd.jupyter.widget-view+json": {
       "model_id": "2b04995060b24e1e89d124a1cff42d90",
       "version_major": 2,
       "version_minor": 0
      },
      "text/plain": [
       "  0%|          | 0/50 [00:00<?, ?it/s]"
      ]
     },
     "metadata": {},
     "output_type": "display_data"
    },
    {
     "data": {
      "application/vnd.jupyter.widget-view+json": {
       "model_id": "215a1e35592846c2a153a0e937df4892",
       "version_major": 2,
       "version_minor": 0
      },
      "text/plain": [
       "  0%|          | 0/50 [00:00<?, ?it/s]"
      ]
     },
     "metadata": {},
     "output_type": "display_data"
    },
    {
     "name": "stdout",
     "output_type": "stream",
     "text": [
      "###302###\n"
     ]
    },
    {
     "data": {
      "application/vnd.jupyter.widget-view+json": {
       "model_id": "9d3001f0beee498cabbe4a921e2b1441",
       "version_major": 2,
       "version_minor": 0
      },
      "text/plain": [
       "  0%|          | 0/50 [00:00<?, ?it/s]"
      ]
     },
     "metadata": {},
     "output_type": "display_data"
    },
    {
     "data": {
      "application/vnd.jupyter.widget-view+json": {
       "model_id": "ffcaaafaceea4d6cb2856d662b5b6293",
       "version_major": 2,
       "version_minor": 0
      },
      "text/plain": [
       "  0%|          | 0/50 [00:00<?, ?it/s]"
      ]
     },
     "metadata": {},
     "output_type": "display_data"
    },
    {
     "data": {
      "application/vnd.jupyter.widget-view+json": {
       "model_id": "56805bb2a10b48d99bc0c8b00b9f2bb0",
       "version_major": 2,
       "version_minor": 0
      },
      "text/plain": [
       "  0%|          | 0/50 [00:00<?, ?it/s]"
      ]
     },
     "metadata": {},
     "output_type": "display_data"
    },
    {
     "name": "stdout",
     "output_type": "stream",
     "text": [
      "###303###\n"
     ]
    },
    {
     "data": {
      "application/vnd.jupyter.widget-view+json": {
       "model_id": "e9d8f7347a6d46fc96e9e4829d96787f",
       "version_major": 2,
       "version_minor": 0
      },
      "text/plain": [
       "  0%|          | 0/50 [00:00<?, ?it/s]"
      ]
     },
     "metadata": {},
     "output_type": "display_data"
    },
    {
     "data": {
      "application/vnd.jupyter.widget-view+json": {
       "model_id": "8aa5fd58d123409185ca5b9bda45e3ae",
       "version_major": 2,
       "version_minor": 0
      },
      "text/plain": [
       "  0%|          | 0/50 [00:00<?, ?it/s]"
      ]
     },
     "metadata": {},
     "output_type": "display_data"
    },
    {
     "data": {
      "application/vnd.jupyter.widget-view+json": {
       "model_id": "a1775df2f8e34c5f9596c3939920b60c",
       "version_major": 2,
       "version_minor": 0
      },
      "text/plain": [
       "  0%|          | 0/50 [00:00<?, ?it/s]"
      ]
     },
     "metadata": {},
     "output_type": "display_data"
    },
    {
     "name": "stdout",
     "output_type": "stream",
     "text": [
      "###304###\n"
     ]
    },
    {
     "data": {
      "application/vnd.jupyter.widget-view+json": {
       "model_id": "52055795ed5b4dd5aaebc080d9c25802",
       "version_major": 2,
       "version_minor": 0
      },
      "text/plain": [
       "  0%|          | 0/50 [00:00<?, ?it/s]"
      ]
     },
     "metadata": {},
     "output_type": "display_data"
    },
    {
     "data": {
      "application/vnd.jupyter.widget-view+json": {
       "model_id": "5e436361420b4b419d53f34c35b7084e",
       "version_major": 2,
       "version_minor": 0
      },
      "text/plain": [
       "  0%|          | 0/50 [00:00<?, ?it/s]"
      ]
     },
     "metadata": {},
     "output_type": "display_data"
    },
    {
     "data": {
      "application/vnd.jupyter.widget-view+json": {
       "model_id": "696cd849b82842ec9b7d6791e7bc49c3",
       "version_major": 2,
       "version_minor": 0
      },
      "text/plain": [
       "  0%|          | 0/50 [00:00<?, ?it/s]"
      ]
     },
     "metadata": {},
     "output_type": "display_data"
    },
    {
     "name": "stdout",
     "output_type": "stream",
     "text": [
      "###305###\n"
     ]
    },
    {
     "data": {
      "application/vnd.jupyter.widget-view+json": {
       "model_id": "f4853d833d1e47669c9b8a77406311ad",
       "version_major": 2,
       "version_minor": 0
      },
      "text/plain": [
       "  0%|          | 0/50 [00:00<?, ?it/s]"
      ]
     },
     "metadata": {},
     "output_type": "display_data"
    },
    {
     "data": {
      "application/vnd.jupyter.widget-view+json": {
       "model_id": "73251d7ea38a47dabaa7497be5239f9b",
       "version_major": 2,
       "version_minor": 0
      },
      "text/plain": [
       "  0%|          | 0/50 [00:00<?, ?it/s]"
      ]
     },
     "metadata": {},
     "output_type": "display_data"
    },
    {
     "data": {
      "application/vnd.jupyter.widget-view+json": {
       "model_id": "0daad45fa723482db2207633945b831b",
       "version_major": 2,
       "version_minor": 0
      },
      "text/plain": [
       "  0%|          | 0/50 [00:00<?, ?it/s]"
      ]
     },
     "metadata": {},
     "output_type": "display_data"
    },
    {
     "name": "stdout",
     "output_type": "stream",
     "text": [
      "###306###\n"
     ]
    },
    {
     "data": {
      "application/vnd.jupyter.widget-view+json": {
       "model_id": "9fd008fe5aa040798de2f49510612aad",
       "version_major": 2,
       "version_minor": 0
      },
      "text/plain": [
       "  0%|          | 0/50 [00:00<?, ?it/s]"
      ]
     },
     "metadata": {},
     "output_type": "display_data"
    },
    {
     "data": {
      "application/vnd.jupyter.widget-view+json": {
       "model_id": "d5497057bbb84e7e94504c2edffea06c",
       "version_major": 2,
       "version_minor": 0
      },
      "text/plain": [
       "  0%|          | 0/50 [00:00<?, ?it/s]"
      ]
     },
     "metadata": {},
     "output_type": "display_data"
    },
    {
     "data": {
      "application/vnd.jupyter.widget-view+json": {
       "model_id": "89a0dcdc35f542d98a379beede1bd325",
       "version_major": 2,
       "version_minor": 0
      },
      "text/plain": [
       "  0%|          | 0/50 [00:00<?, ?it/s]"
      ]
     },
     "metadata": {},
     "output_type": "display_data"
    },
    {
     "name": "stdout",
     "output_type": "stream",
     "text": [
      "###307###\n"
     ]
    },
    {
     "data": {
      "application/vnd.jupyter.widget-view+json": {
       "model_id": "2cf57cd49faa44c3a9c7d58bcf78cf0f",
       "version_major": 2,
       "version_minor": 0
      },
      "text/plain": [
       "  0%|          | 0/50 [00:00<?, ?it/s]"
      ]
     },
     "metadata": {},
     "output_type": "display_data"
    },
    {
     "data": {
      "application/vnd.jupyter.widget-view+json": {
       "model_id": "50a6a491304d485eb064020ee2718163",
       "version_major": 2,
       "version_minor": 0
      },
      "text/plain": [
       "  0%|          | 0/50 [00:00<?, ?it/s]"
      ]
     },
     "metadata": {},
     "output_type": "display_data"
    },
    {
     "data": {
      "application/vnd.jupyter.widget-view+json": {
       "model_id": "4efdb946437f45ed82ff8c8dd59d3ce7",
       "version_major": 2,
       "version_minor": 0
      },
      "text/plain": [
       "  0%|          | 0/50 [00:00<?, ?it/s]"
      ]
     },
     "metadata": {},
     "output_type": "display_data"
    },
    {
     "name": "stdout",
     "output_type": "stream",
     "text": [
      "###308###\n"
     ]
    },
    {
     "data": {
      "application/vnd.jupyter.widget-view+json": {
       "model_id": "0bb924d574b5496ab3b2f9dbe97a7915",
       "version_major": 2,
       "version_minor": 0
      },
      "text/plain": [
       "  0%|          | 0/50 [00:00<?, ?it/s]"
      ]
     },
     "metadata": {},
     "output_type": "display_data"
    },
    {
     "data": {
      "application/vnd.jupyter.widget-view+json": {
       "model_id": "364d5b3bd5b44665915b83dacfcfbbb7",
       "version_major": 2,
       "version_minor": 0
      },
      "text/plain": [
       "  0%|          | 0/50 [00:00<?, ?it/s]"
      ]
     },
     "metadata": {},
     "output_type": "display_data"
    },
    {
     "data": {
      "application/vnd.jupyter.widget-view+json": {
       "model_id": "34f180396c924e4f887db90e1d035bbe",
       "version_major": 2,
       "version_minor": 0
      },
      "text/plain": [
       "  0%|          | 0/50 [00:00<?, ?it/s]"
      ]
     },
     "metadata": {},
     "output_type": "display_data"
    },
    {
     "name": "stdout",
     "output_type": "stream",
     "text": [
      "###309###\n"
     ]
    },
    {
     "data": {
      "application/vnd.jupyter.widget-view+json": {
       "model_id": "c577c0c4aa9b4a48bfcc247f21b52894",
       "version_major": 2,
       "version_minor": 0
      },
      "text/plain": [
       "  0%|          | 0/50 [00:00<?, ?it/s]"
      ]
     },
     "metadata": {},
     "output_type": "display_data"
    },
    {
     "data": {
      "application/vnd.jupyter.widget-view+json": {
       "model_id": "e1ee6b6097db431cbc55c0351f4c30cd",
       "version_major": 2,
       "version_minor": 0
      },
      "text/plain": [
       "  0%|          | 0/50 [00:00<?, ?it/s]"
      ]
     },
     "metadata": {},
     "output_type": "display_data"
    },
    {
     "data": {
      "application/vnd.jupyter.widget-view+json": {
       "model_id": "4a1827896c8245d2bcdc57b8944ac153",
       "version_major": 2,
       "version_minor": 0
      },
      "text/plain": [
       "  0%|          | 0/50 [00:00<?, ?it/s]"
      ]
     },
     "metadata": {},
     "output_type": "display_data"
    },
    {
     "name": "stdout",
     "output_type": "stream",
     "text": [
      "###310###\n"
     ]
    },
    {
     "data": {
      "application/vnd.jupyter.widget-view+json": {
       "model_id": "3569d23fa524463fb249d6a2e2f7c14b",
       "version_major": 2,
       "version_minor": 0
      },
      "text/plain": [
       "  0%|          | 0/50 [00:00<?, ?it/s]"
      ]
     },
     "metadata": {},
     "output_type": "display_data"
    },
    {
     "data": {
      "application/vnd.jupyter.widget-view+json": {
       "model_id": "cc4049497c6346db8c9cf97906e12ba7",
       "version_major": 2,
       "version_minor": 0
      },
      "text/plain": [
       "  0%|          | 0/50 [00:00<?, ?it/s]"
      ]
     },
     "metadata": {},
     "output_type": "display_data"
    },
    {
     "data": {
      "application/vnd.jupyter.widget-view+json": {
       "model_id": "de6e476155384aef91208e358859fabb",
       "version_major": 2,
       "version_minor": 0
      },
      "text/plain": [
       "  0%|          | 0/50 [00:00<?, ?it/s]"
      ]
     },
     "metadata": {},
     "output_type": "display_data"
    },
    {
     "name": "stdout",
     "output_type": "stream",
     "text": [
      "###311###\n"
     ]
    },
    {
     "data": {
      "application/vnd.jupyter.widget-view+json": {
       "model_id": "3de157b1f6e543258219e5c763afeb4d",
       "version_major": 2,
       "version_minor": 0
      },
      "text/plain": [
       "  0%|          | 0/50 [00:00<?, ?it/s]"
      ]
     },
     "metadata": {},
     "output_type": "display_data"
    },
    {
     "data": {
      "application/vnd.jupyter.widget-view+json": {
       "model_id": "3c492182aa5f466b92c24f72f5b12f90",
       "version_major": 2,
       "version_minor": 0
      },
      "text/plain": [
       "  0%|          | 0/50 [00:00<?, ?it/s]"
      ]
     },
     "metadata": {},
     "output_type": "display_data"
    },
    {
     "data": {
      "application/vnd.jupyter.widget-view+json": {
       "model_id": "e5e683911b8c45a88f17f007221a77f1",
       "version_major": 2,
       "version_minor": 0
      },
      "text/plain": [
       "  0%|          | 0/50 [00:00<?, ?it/s]"
      ]
     },
     "metadata": {},
     "output_type": "display_data"
    },
    {
     "name": "stdout",
     "output_type": "stream",
     "text": [
      "###312###\n"
     ]
    },
    {
     "data": {
      "application/vnd.jupyter.widget-view+json": {
       "model_id": "a204dcf0fc5442e7ae605b8865bb4491",
       "version_major": 2,
       "version_minor": 0
      },
      "text/plain": [
       "  0%|          | 0/50 [00:00<?, ?it/s]"
      ]
     },
     "metadata": {},
     "output_type": "display_data"
    },
    {
     "data": {
      "application/vnd.jupyter.widget-view+json": {
       "model_id": "c4b8a17784e64b87968395f57f6a87d0",
       "version_major": 2,
       "version_minor": 0
      },
      "text/plain": [
       "  0%|          | 0/50 [00:00<?, ?it/s]"
      ]
     },
     "metadata": {},
     "output_type": "display_data"
    },
    {
     "data": {
      "application/vnd.jupyter.widget-view+json": {
       "model_id": "4b6379f183a64d3caf13898f4a66bff1",
       "version_major": 2,
       "version_minor": 0
      },
      "text/plain": [
       "  0%|          | 0/50 [00:00<?, ?it/s]"
      ]
     },
     "metadata": {},
     "output_type": "display_data"
    },
    {
     "name": "stdout",
     "output_type": "stream",
     "text": [
      "###313###\n"
     ]
    },
    {
     "data": {
      "application/vnd.jupyter.widget-view+json": {
       "model_id": "694ce6c8a5e249b59c5ab38aeb74be59",
       "version_major": 2,
       "version_minor": 0
      },
      "text/plain": [
       "  0%|          | 0/50 [00:00<?, ?it/s]"
      ]
     },
     "metadata": {},
     "output_type": "display_data"
    },
    {
     "data": {
      "application/vnd.jupyter.widget-view+json": {
       "model_id": "c7d4729f37fc48b9824a13168e47490c",
       "version_major": 2,
       "version_minor": 0
      },
      "text/plain": [
       "  0%|          | 0/50 [00:00<?, ?it/s]"
      ]
     },
     "metadata": {},
     "output_type": "display_data"
    },
    {
     "data": {
      "application/vnd.jupyter.widget-view+json": {
       "model_id": "f338cafcc6894539b7e8e8b6e2013aa2",
       "version_major": 2,
       "version_minor": 0
      },
      "text/plain": [
       "  0%|          | 0/50 [00:00<?, ?it/s]"
      ]
     },
     "metadata": {},
     "output_type": "display_data"
    },
    {
     "name": "stdout",
     "output_type": "stream",
     "text": [
      "###314###\n"
     ]
    },
    {
     "data": {
      "application/vnd.jupyter.widget-view+json": {
       "model_id": "71ed0d7d89fa4e6ca8eeb0fb1f217086",
       "version_major": 2,
       "version_minor": 0
      },
      "text/plain": [
       "  0%|          | 0/50 [00:00<?, ?it/s]"
      ]
     },
     "metadata": {},
     "output_type": "display_data"
    },
    {
     "data": {
      "application/vnd.jupyter.widget-view+json": {
       "model_id": "70bcd84716a44a7882a5a98236a1a3b3",
       "version_major": 2,
       "version_minor": 0
      },
      "text/plain": [
       "  0%|          | 0/50 [00:00<?, ?it/s]"
      ]
     },
     "metadata": {},
     "output_type": "display_data"
    },
    {
     "data": {
      "application/vnd.jupyter.widget-view+json": {
       "model_id": "bfcb9a89331a421da97f262d145408ac",
       "version_major": 2,
       "version_minor": 0
      },
      "text/plain": [
       "  0%|          | 0/50 [00:00<?, ?it/s]"
      ]
     },
     "metadata": {},
     "output_type": "display_data"
    },
    {
     "name": "stdout",
     "output_type": "stream",
     "text": [
      "###315###\n"
     ]
    },
    {
     "data": {
      "application/vnd.jupyter.widget-view+json": {
       "model_id": "50e8dc664ed7405484c2fd07eba71e0e",
       "version_major": 2,
       "version_minor": 0
      },
      "text/plain": [
       "  0%|          | 0/50 [00:00<?, ?it/s]"
      ]
     },
     "metadata": {},
     "output_type": "display_data"
    },
    {
     "data": {
      "application/vnd.jupyter.widget-view+json": {
       "model_id": "1643dd80cc274fb99f403a5215ec145d",
       "version_major": 2,
       "version_minor": 0
      },
      "text/plain": [
       "  0%|          | 0/50 [00:00<?, ?it/s]"
      ]
     },
     "metadata": {},
     "output_type": "display_data"
    },
    {
     "data": {
      "application/vnd.jupyter.widget-view+json": {
       "model_id": "7d90c8579b634bff9edea7509e4ff4fe",
       "version_major": 2,
       "version_minor": 0
      },
      "text/plain": [
       "  0%|          | 0/50 [00:00<?, ?it/s]"
      ]
     },
     "metadata": {},
     "output_type": "display_data"
    },
    {
     "name": "stdout",
     "output_type": "stream",
     "text": [
      "###316###\n"
     ]
    },
    {
     "data": {
      "application/vnd.jupyter.widget-view+json": {
       "model_id": "dba329a889aa40e1b2326b040461d7ec",
       "version_major": 2,
       "version_minor": 0
      },
      "text/plain": [
       "  0%|          | 0/50 [00:00<?, ?it/s]"
      ]
     },
     "metadata": {},
     "output_type": "display_data"
    },
    {
     "data": {
      "application/vnd.jupyter.widget-view+json": {
       "model_id": "e2e87aa98769419baca9ef1bbd1f7c1b",
       "version_major": 2,
       "version_minor": 0
      },
      "text/plain": [
       "  0%|          | 0/50 [00:00<?, ?it/s]"
      ]
     },
     "metadata": {},
     "output_type": "display_data"
    },
    {
     "data": {
      "application/vnd.jupyter.widget-view+json": {
       "model_id": "9786acf671d24a41b3218986ed7c4887",
       "version_major": 2,
       "version_minor": 0
      },
      "text/plain": [
       "  0%|          | 0/50 [00:00<?, ?it/s]"
      ]
     },
     "metadata": {},
     "output_type": "display_data"
    },
    {
     "name": "stdout",
     "output_type": "stream",
     "text": [
      "###317###\n"
     ]
    },
    {
     "data": {
      "application/vnd.jupyter.widget-view+json": {
       "model_id": "fbc48a9671564fb184669c7bcdda32a3",
       "version_major": 2,
       "version_minor": 0
      },
      "text/plain": [
       "  0%|          | 0/50 [00:00<?, ?it/s]"
      ]
     },
     "metadata": {},
     "output_type": "display_data"
    },
    {
     "data": {
      "application/vnd.jupyter.widget-view+json": {
       "model_id": "4f9ae10368d84e92ba263034ab61aeb7",
       "version_major": 2,
       "version_minor": 0
      },
      "text/plain": [
       "  0%|          | 0/50 [00:00<?, ?it/s]"
      ]
     },
     "metadata": {},
     "output_type": "display_data"
    },
    {
     "data": {
      "application/vnd.jupyter.widget-view+json": {
       "model_id": "08e521afe99b43598eb87534f3cefb1d",
       "version_major": 2,
       "version_minor": 0
      },
      "text/plain": [
       "  0%|          | 0/50 [00:00<?, ?it/s]"
      ]
     },
     "metadata": {},
     "output_type": "display_data"
    },
    {
     "name": "stdout",
     "output_type": "stream",
     "text": [
      "###318###\n"
     ]
    },
    {
     "data": {
      "application/vnd.jupyter.widget-view+json": {
       "model_id": "7ee9bb6e0fa54d7ba77a5a8ce23c90b2",
       "version_major": 2,
       "version_minor": 0
      },
      "text/plain": [
       "  0%|          | 0/50 [00:00<?, ?it/s]"
      ]
     },
     "metadata": {},
     "output_type": "display_data"
    },
    {
     "data": {
      "application/vnd.jupyter.widget-view+json": {
       "model_id": "46ee25b080c147188c44a15492446758",
       "version_major": 2,
       "version_minor": 0
      },
      "text/plain": [
       "  0%|          | 0/50 [00:00<?, ?it/s]"
      ]
     },
     "metadata": {},
     "output_type": "display_data"
    },
    {
     "data": {
      "application/vnd.jupyter.widget-view+json": {
       "model_id": "41b4ed92045948678c8b1ee9ad65cae0",
       "version_major": 2,
       "version_minor": 0
      },
      "text/plain": [
       "  0%|          | 0/50 [00:00<?, ?it/s]"
      ]
     },
     "metadata": {},
     "output_type": "display_data"
    },
    {
     "name": "stdout",
     "output_type": "stream",
     "text": [
      "###319###\n"
     ]
    },
    {
     "data": {
      "application/vnd.jupyter.widget-view+json": {
       "model_id": "6d696a864e7345e5944e4e0831c703ad",
       "version_major": 2,
       "version_minor": 0
      },
      "text/plain": [
       "  0%|          | 0/50 [00:00<?, ?it/s]"
      ]
     },
     "metadata": {},
     "output_type": "display_data"
    },
    {
     "data": {
      "application/vnd.jupyter.widget-view+json": {
       "model_id": "86cc852d75b448cf860880661a22cf35",
       "version_major": 2,
       "version_minor": 0
      },
      "text/plain": [
       "  0%|          | 0/50 [00:00<?, ?it/s]"
      ]
     },
     "metadata": {},
     "output_type": "display_data"
    },
    {
     "data": {
      "application/vnd.jupyter.widget-view+json": {
       "model_id": "8ebe0c492fe247c081e8a2e78e35f8d5",
       "version_major": 2,
       "version_minor": 0
      },
      "text/plain": [
       "  0%|          | 0/50 [00:00<?, ?it/s]"
      ]
     },
     "metadata": {},
     "output_type": "display_data"
    },
    {
     "name": "stdout",
     "output_type": "stream",
     "text": [
      "###320###\n"
     ]
    },
    {
     "data": {
      "application/vnd.jupyter.widget-view+json": {
       "model_id": "57f73b109be249ac90aa333a852f3b00",
       "version_major": 2,
       "version_minor": 0
      },
      "text/plain": [
       "  0%|          | 0/50 [00:00<?, ?it/s]"
      ]
     },
     "metadata": {},
     "output_type": "display_data"
    },
    {
     "data": {
      "application/vnd.jupyter.widget-view+json": {
       "model_id": "a99816dd873248b8be6b88f17a08afd4",
       "version_major": 2,
       "version_minor": 0
      },
      "text/plain": [
       "  0%|          | 0/50 [00:00<?, ?it/s]"
      ]
     },
     "metadata": {},
     "output_type": "display_data"
    },
    {
     "data": {
      "application/vnd.jupyter.widget-view+json": {
       "model_id": "2b35bfe5090d43f0b7fcce62f5b75357",
       "version_major": 2,
       "version_minor": 0
      },
      "text/plain": [
       "  0%|          | 0/50 [00:00<?, ?it/s]"
      ]
     },
     "metadata": {},
     "output_type": "display_data"
    },
    {
     "name": "stdout",
     "output_type": "stream",
     "text": [
      "###321###\n"
     ]
    },
    {
     "data": {
      "application/vnd.jupyter.widget-view+json": {
       "model_id": "bc0e2d7d9c324dc2a2e6314e8016ef3a",
       "version_major": 2,
       "version_minor": 0
      },
      "text/plain": [
       "  0%|          | 0/50 [00:00<?, ?it/s]"
      ]
     },
     "metadata": {},
     "output_type": "display_data"
    },
    {
     "data": {
      "application/vnd.jupyter.widget-view+json": {
       "model_id": "7134a6b7bf8243eeaa86e0f0d66702a0",
       "version_major": 2,
       "version_minor": 0
      },
      "text/plain": [
       "  0%|          | 0/50 [00:00<?, ?it/s]"
      ]
     },
     "metadata": {},
     "output_type": "display_data"
    },
    {
     "data": {
      "application/vnd.jupyter.widget-view+json": {
       "model_id": "6519d333819b4a26a1851096f5291a30",
       "version_major": 2,
       "version_minor": 0
      },
      "text/plain": [
       "  0%|          | 0/50 [00:00<?, ?it/s]"
      ]
     },
     "metadata": {},
     "output_type": "display_data"
    },
    {
     "name": "stdout",
     "output_type": "stream",
     "text": [
      "###322###\n"
     ]
    },
    {
     "data": {
      "application/vnd.jupyter.widget-view+json": {
       "model_id": "799826b1b06540b48645a80622beaefa",
       "version_major": 2,
       "version_minor": 0
      },
      "text/plain": [
       "  0%|          | 0/50 [00:00<?, ?it/s]"
      ]
     },
     "metadata": {},
     "output_type": "display_data"
    },
    {
     "data": {
      "application/vnd.jupyter.widget-view+json": {
       "model_id": "c0b210b9a6a64512953c57b6a0fafe8e",
       "version_major": 2,
       "version_minor": 0
      },
      "text/plain": [
       "  0%|          | 0/50 [00:00<?, ?it/s]"
      ]
     },
     "metadata": {},
     "output_type": "display_data"
    },
    {
     "data": {
      "application/vnd.jupyter.widget-view+json": {
       "model_id": "1851794f57db468fb1847f0430a3f71e",
       "version_major": 2,
       "version_minor": 0
      },
      "text/plain": [
       "  0%|          | 0/50 [00:00<?, ?it/s]"
      ]
     },
     "metadata": {},
     "output_type": "display_data"
    },
    {
     "name": "stdout",
     "output_type": "stream",
     "text": [
      "###323###\n"
     ]
    },
    {
     "data": {
      "application/vnd.jupyter.widget-view+json": {
       "model_id": "aed97ec74f6f4a2a97d44360530e4ff9",
       "version_major": 2,
       "version_minor": 0
      },
      "text/plain": [
       "  0%|          | 0/50 [00:00<?, ?it/s]"
      ]
     },
     "metadata": {},
     "output_type": "display_data"
    },
    {
     "data": {
      "application/vnd.jupyter.widget-view+json": {
       "model_id": "ffe508a1e06543849748511889fb834c",
       "version_major": 2,
       "version_minor": 0
      },
      "text/plain": [
       "  0%|          | 0/50 [00:00<?, ?it/s]"
      ]
     },
     "metadata": {},
     "output_type": "display_data"
    },
    {
     "data": {
      "application/vnd.jupyter.widget-view+json": {
       "model_id": "5b30c8fb4352446e8c5a9cac218fac43",
       "version_major": 2,
       "version_minor": 0
      },
      "text/plain": [
       "  0%|          | 0/50 [00:00<?, ?it/s]"
      ]
     },
     "metadata": {},
     "output_type": "display_data"
    },
    {
     "name": "stdout",
     "output_type": "stream",
     "text": [
      "###324###\n"
     ]
    },
    {
     "data": {
      "application/vnd.jupyter.widget-view+json": {
       "model_id": "68bcc3671dd34cc2b5987ab9c91b08cf",
       "version_major": 2,
       "version_minor": 0
      },
      "text/plain": [
       "  0%|          | 0/50 [00:00<?, ?it/s]"
      ]
     },
     "metadata": {},
     "output_type": "display_data"
    },
    {
     "data": {
      "application/vnd.jupyter.widget-view+json": {
       "model_id": "a2c47efb5d6e4c7cb868e7e84ec980ac",
       "version_major": 2,
       "version_minor": 0
      },
      "text/plain": [
       "  0%|          | 0/50 [00:00<?, ?it/s]"
      ]
     },
     "metadata": {},
     "output_type": "display_data"
    },
    {
     "data": {
      "application/vnd.jupyter.widget-view+json": {
       "model_id": "aa315703b33a46a0bf3582d87783c4e2",
       "version_major": 2,
       "version_minor": 0
      },
      "text/plain": [
       "  0%|          | 0/50 [00:00<?, ?it/s]"
      ]
     },
     "metadata": {},
     "output_type": "display_data"
    },
    {
     "name": "stdout",
     "output_type": "stream",
     "text": [
      "###325###\n"
     ]
    },
    {
     "data": {
      "application/vnd.jupyter.widget-view+json": {
       "model_id": "e9ee2bcd526946ab8870f8011a24de90",
       "version_major": 2,
       "version_minor": 0
      },
      "text/plain": [
       "  0%|          | 0/50 [00:00<?, ?it/s]"
      ]
     },
     "metadata": {},
     "output_type": "display_data"
    },
    {
     "data": {
      "application/vnd.jupyter.widget-view+json": {
       "model_id": "95868e24ca9e40279567087e8922db78",
       "version_major": 2,
       "version_minor": 0
      },
      "text/plain": [
       "  0%|          | 0/50 [00:00<?, ?it/s]"
      ]
     },
     "metadata": {},
     "output_type": "display_data"
    },
    {
     "data": {
      "application/vnd.jupyter.widget-view+json": {
       "model_id": "f43fc8e509a3460086199123ffb3d218",
       "version_major": 2,
       "version_minor": 0
      },
      "text/plain": [
       "  0%|          | 0/50 [00:00<?, ?it/s]"
      ]
     },
     "metadata": {},
     "output_type": "display_data"
    },
    {
     "name": "stdout",
     "output_type": "stream",
     "text": [
      "###326###\n"
     ]
    },
    {
     "data": {
      "application/vnd.jupyter.widget-view+json": {
       "model_id": "54222cd43b3041a08e56f764dc90d235",
       "version_major": 2,
       "version_minor": 0
      },
      "text/plain": [
       "  0%|          | 0/50 [00:00<?, ?it/s]"
      ]
     },
     "metadata": {},
     "output_type": "display_data"
    },
    {
     "data": {
      "application/vnd.jupyter.widget-view+json": {
       "model_id": "80cb799679144a9782a5a2970bf10cd7",
       "version_major": 2,
       "version_minor": 0
      },
      "text/plain": [
       "  0%|          | 0/50 [00:00<?, ?it/s]"
      ]
     },
     "metadata": {},
     "output_type": "display_data"
    },
    {
     "data": {
      "application/vnd.jupyter.widget-view+json": {
       "model_id": "683c716e7b33454d873a610aad2630c1",
       "version_major": 2,
       "version_minor": 0
      },
      "text/plain": [
       "  0%|          | 0/50 [00:00<?, ?it/s]"
      ]
     },
     "metadata": {},
     "output_type": "display_data"
    },
    {
     "name": "stdout",
     "output_type": "stream",
     "text": [
      "###327###\n"
     ]
    },
    {
     "data": {
      "application/vnd.jupyter.widget-view+json": {
       "model_id": "6f2072dd034b4b9392884d04b95c8dbc",
       "version_major": 2,
       "version_minor": 0
      },
      "text/plain": [
       "  0%|          | 0/50 [00:00<?, ?it/s]"
      ]
     },
     "metadata": {},
     "output_type": "display_data"
    },
    {
     "data": {
      "application/vnd.jupyter.widget-view+json": {
       "model_id": "2255aa06cc2e424999de2a58249f74aa",
       "version_major": 2,
       "version_minor": 0
      },
      "text/plain": [
       "  0%|          | 0/50 [00:00<?, ?it/s]"
      ]
     },
     "metadata": {},
     "output_type": "display_data"
    },
    {
     "data": {
      "application/vnd.jupyter.widget-view+json": {
       "model_id": "3e7a5118e906496981eb2569468d4b74",
       "version_major": 2,
       "version_minor": 0
      },
      "text/plain": [
       "  0%|          | 0/50 [00:00<?, ?it/s]"
      ]
     },
     "metadata": {},
     "output_type": "display_data"
    },
    {
     "name": "stdout",
     "output_type": "stream",
     "text": [
      "###328###\n"
     ]
    },
    {
     "data": {
      "application/vnd.jupyter.widget-view+json": {
       "model_id": "e4b381f002c0482c9f9d0ae3f43763f7",
       "version_major": 2,
       "version_minor": 0
      },
      "text/plain": [
       "  0%|          | 0/50 [00:00<?, ?it/s]"
      ]
     },
     "metadata": {},
     "output_type": "display_data"
    },
    {
     "data": {
      "application/vnd.jupyter.widget-view+json": {
       "model_id": "efb7d70471a2491bada6d4739db54407",
       "version_major": 2,
       "version_minor": 0
      },
      "text/plain": [
       "  0%|          | 0/50 [00:00<?, ?it/s]"
      ]
     },
     "metadata": {},
     "output_type": "display_data"
    },
    {
     "data": {
      "application/vnd.jupyter.widget-view+json": {
       "model_id": "f31268cbe84443778d2b191c75604f31",
       "version_major": 2,
       "version_minor": 0
      },
      "text/plain": [
       "  0%|          | 0/50 [00:00<?, ?it/s]"
      ]
     },
     "metadata": {},
     "output_type": "display_data"
    },
    {
     "name": "stdout",
     "output_type": "stream",
     "text": [
      "###329###\n"
     ]
    },
    {
     "data": {
      "application/vnd.jupyter.widget-view+json": {
       "model_id": "8cb7d720723644a58df327d57321be5e",
       "version_major": 2,
       "version_minor": 0
      },
      "text/plain": [
       "  0%|          | 0/50 [00:00<?, ?it/s]"
      ]
     },
     "metadata": {},
     "output_type": "display_data"
    },
    {
     "data": {
      "application/vnd.jupyter.widget-view+json": {
       "model_id": "d139e3b864534e198b14c80536d90fc7",
       "version_major": 2,
       "version_minor": 0
      },
      "text/plain": [
       "  0%|          | 0/50 [00:00<?, ?it/s]"
      ]
     },
     "metadata": {},
     "output_type": "display_data"
    },
    {
     "data": {
      "application/vnd.jupyter.widget-view+json": {
       "model_id": "c9cb18dd9d3048c1a282b0167a3b4a8b",
       "version_major": 2,
       "version_minor": 0
      },
      "text/plain": [
       "  0%|          | 0/50 [00:00<?, ?it/s]"
      ]
     },
     "metadata": {},
     "output_type": "display_data"
    },
    {
     "name": "stdout",
     "output_type": "stream",
     "text": [
      "###330###\n"
     ]
    },
    {
     "data": {
      "application/vnd.jupyter.widget-view+json": {
       "model_id": "82cea6a86efd45e5ae85e22621fea998",
       "version_major": 2,
       "version_minor": 0
      },
      "text/plain": [
       "  0%|          | 0/50 [00:00<?, ?it/s]"
      ]
     },
     "metadata": {},
     "output_type": "display_data"
    },
    {
     "data": {
      "application/vnd.jupyter.widget-view+json": {
       "model_id": "ea334a38558442d58223f02ff36700c8",
       "version_major": 2,
       "version_minor": 0
      },
      "text/plain": [
       "  0%|          | 0/50 [00:00<?, ?it/s]"
      ]
     },
     "metadata": {},
     "output_type": "display_data"
    },
    {
     "data": {
      "application/vnd.jupyter.widget-view+json": {
       "model_id": "5f01c742da494943af01d333ad5941e4",
       "version_major": 2,
       "version_minor": 0
      },
      "text/plain": [
       "  0%|          | 0/50 [00:00<?, ?it/s]"
      ]
     },
     "metadata": {},
     "output_type": "display_data"
    },
    {
     "name": "stdout",
     "output_type": "stream",
     "text": [
      "###331###\n"
     ]
    },
    {
     "data": {
      "application/vnd.jupyter.widget-view+json": {
       "model_id": "81422ef4592a4ef7a12339e170d3451d",
       "version_major": 2,
       "version_minor": 0
      },
      "text/plain": [
       "  0%|          | 0/50 [00:00<?, ?it/s]"
      ]
     },
     "metadata": {},
     "output_type": "display_data"
    },
    {
     "data": {
      "application/vnd.jupyter.widget-view+json": {
       "model_id": "4ac272c2d8ec4bc5b36a5534b9429276",
       "version_major": 2,
       "version_minor": 0
      },
      "text/plain": [
       "  0%|          | 0/50 [00:00<?, ?it/s]"
      ]
     },
     "metadata": {},
     "output_type": "display_data"
    },
    {
     "data": {
      "application/vnd.jupyter.widget-view+json": {
       "model_id": "bad0f1fb537d4dc3a3994af18c17092b",
       "version_major": 2,
       "version_minor": 0
      },
      "text/plain": [
       "  0%|          | 0/50 [00:00<?, ?it/s]"
      ]
     },
     "metadata": {},
     "output_type": "display_data"
    },
    {
     "name": "stdout",
     "output_type": "stream",
     "text": [
      "###332###\n"
     ]
    },
    {
     "data": {
      "application/vnd.jupyter.widget-view+json": {
       "model_id": "8e3396723c604448a213abcc1a00e4d0",
       "version_major": 2,
       "version_minor": 0
      },
      "text/plain": [
       "  0%|          | 0/50 [00:00<?, ?it/s]"
      ]
     },
     "metadata": {},
     "output_type": "display_data"
    },
    {
     "data": {
      "application/vnd.jupyter.widget-view+json": {
       "model_id": "88bd77d8e89b425facaff9e20dfac560",
       "version_major": 2,
       "version_minor": 0
      },
      "text/plain": [
       "  0%|          | 0/50 [00:00<?, ?it/s]"
      ]
     },
     "metadata": {},
     "output_type": "display_data"
    },
    {
     "data": {
      "application/vnd.jupyter.widget-view+json": {
       "model_id": "c9c803bf38064464870ad8ac65bec440",
       "version_major": 2,
       "version_minor": 0
      },
      "text/plain": [
       "  0%|          | 0/50 [00:00<?, ?it/s]"
      ]
     },
     "metadata": {},
     "output_type": "display_data"
    },
    {
     "name": "stdout",
     "output_type": "stream",
     "text": [
      "###333###\n"
     ]
    },
    {
     "data": {
      "application/vnd.jupyter.widget-view+json": {
       "model_id": "6f42e02bde004bd5804c971b4bc4c4f5",
       "version_major": 2,
       "version_minor": 0
      },
      "text/plain": [
       "  0%|          | 0/50 [00:00<?, ?it/s]"
      ]
     },
     "metadata": {},
     "output_type": "display_data"
    },
    {
     "data": {
      "application/vnd.jupyter.widget-view+json": {
       "model_id": "e7c65970752f4b9eafb437962dd189d6",
       "version_major": 2,
       "version_minor": 0
      },
      "text/plain": [
       "  0%|          | 0/50 [00:00<?, ?it/s]"
      ]
     },
     "metadata": {},
     "output_type": "display_data"
    },
    {
     "data": {
      "application/vnd.jupyter.widget-view+json": {
       "model_id": "fcd3751884dc4dd48dc73a625cadaae8",
       "version_major": 2,
       "version_minor": 0
      },
      "text/plain": [
       "  0%|          | 0/50 [00:00<?, ?it/s]"
      ]
     },
     "metadata": {},
     "output_type": "display_data"
    },
    {
     "name": "stdout",
     "output_type": "stream",
     "text": [
      "###334###\n"
     ]
    },
    {
     "data": {
      "application/vnd.jupyter.widget-view+json": {
       "model_id": "ee40c2e6cc724ab1a43d8d656bcbfc25",
       "version_major": 2,
       "version_minor": 0
      },
      "text/plain": [
       "  0%|          | 0/50 [00:00<?, ?it/s]"
      ]
     },
     "metadata": {},
     "output_type": "display_data"
    },
    {
     "data": {
      "application/vnd.jupyter.widget-view+json": {
       "model_id": "978e2abb3a834c02a3de987a628dfda6",
       "version_major": 2,
       "version_minor": 0
      },
      "text/plain": [
       "  0%|          | 0/50 [00:00<?, ?it/s]"
      ]
     },
     "metadata": {},
     "output_type": "display_data"
    },
    {
     "data": {
      "application/vnd.jupyter.widget-view+json": {
       "model_id": "3e133905a3024be1ae7304cbea48c7a6",
       "version_major": 2,
       "version_minor": 0
      },
      "text/plain": [
       "  0%|          | 0/50 [00:00<?, ?it/s]"
      ]
     },
     "metadata": {},
     "output_type": "display_data"
    },
    {
     "name": "stdout",
     "output_type": "stream",
     "text": [
      "###335###\n"
     ]
    },
    {
     "data": {
      "application/vnd.jupyter.widget-view+json": {
       "model_id": "bd3eafada1b044818ce9b3e8b9e13b5e",
       "version_major": 2,
       "version_minor": 0
      },
      "text/plain": [
       "  0%|          | 0/50 [00:00<?, ?it/s]"
      ]
     },
     "metadata": {},
     "output_type": "display_data"
    },
    {
     "data": {
      "application/vnd.jupyter.widget-view+json": {
       "model_id": "8b68f2e19ce744ac9be8c0592b3f39d9",
       "version_major": 2,
       "version_minor": 0
      },
      "text/plain": [
       "  0%|          | 0/50 [00:00<?, ?it/s]"
      ]
     },
     "metadata": {},
     "output_type": "display_data"
    },
    {
     "data": {
      "application/vnd.jupyter.widget-view+json": {
       "model_id": "14d57ffdfd3b4661a61ff071a205edce",
       "version_major": 2,
       "version_minor": 0
      },
      "text/plain": [
       "  0%|          | 0/50 [00:00<?, ?it/s]"
      ]
     },
     "metadata": {},
     "output_type": "display_data"
    },
    {
     "name": "stdout",
     "output_type": "stream",
     "text": [
      "###336###\n"
     ]
    },
    {
     "data": {
      "application/vnd.jupyter.widget-view+json": {
       "model_id": "dfee4a8c0a9442b18e1f22abe657fd08",
       "version_major": 2,
       "version_minor": 0
      },
      "text/plain": [
       "  0%|          | 0/50 [00:00<?, ?it/s]"
      ]
     },
     "metadata": {},
     "output_type": "display_data"
    },
    {
     "data": {
      "application/vnd.jupyter.widget-view+json": {
       "model_id": "2882a06bc3504b358f72d7a3e3dc2f76",
       "version_major": 2,
       "version_minor": 0
      },
      "text/plain": [
       "  0%|          | 0/50 [00:00<?, ?it/s]"
      ]
     },
     "metadata": {},
     "output_type": "display_data"
    },
    {
     "data": {
      "application/vnd.jupyter.widget-view+json": {
       "model_id": "aa5fe106975343f6adf14719b5f43e92",
       "version_major": 2,
       "version_minor": 0
      },
      "text/plain": [
       "  0%|          | 0/50 [00:00<?, ?it/s]"
      ]
     },
     "metadata": {},
     "output_type": "display_data"
    },
    {
     "name": "stdout",
     "output_type": "stream",
     "text": [
      "###337###\n"
     ]
    },
    {
     "data": {
      "application/vnd.jupyter.widget-view+json": {
       "model_id": "cdd439c793e546efa5850484b59e6c72",
       "version_major": 2,
       "version_minor": 0
      },
      "text/plain": [
       "  0%|          | 0/50 [00:00<?, ?it/s]"
      ]
     },
     "metadata": {},
     "output_type": "display_data"
    },
    {
     "data": {
      "application/vnd.jupyter.widget-view+json": {
       "model_id": "38717c9da91a43f0b62924fe1efc6e6f",
       "version_major": 2,
       "version_minor": 0
      },
      "text/plain": [
       "  0%|          | 0/50 [00:00<?, ?it/s]"
      ]
     },
     "metadata": {},
     "output_type": "display_data"
    },
    {
     "data": {
      "application/vnd.jupyter.widget-view+json": {
       "model_id": "68993dda94e341a2902ec3f1c2069f39",
       "version_major": 2,
       "version_minor": 0
      },
      "text/plain": [
       "  0%|          | 0/50 [00:00<?, ?it/s]"
      ]
     },
     "metadata": {},
     "output_type": "display_data"
    },
    {
     "name": "stdout",
     "output_type": "stream",
     "text": [
      "###338###\n"
     ]
    },
    {
     "data": {
      "application/vnd.jupyter.widget-view+json": {
       "model_id": "8899009cf91247379ed297aaffa59e6f",
       "version_major": 2,
       "version_minor": 0
      },
      "text/plain": [
       "  0%|          | 0/50 [00:00<?, ?it/s]"
      ]
     },
     "metadata": {},
     "output_type": "display_data"
    },
    {
     "data": {
      "application/vnd.jupyter.widget-view+json": {
       "model_id": "96a0f6cfe3f749c28a14879b3e459ee3",
       "version_major": 2,
       "version_minor": 0
      },
      "text/plain": [
       "  0%|          | 0/50 [00:00<?, ?it/s]"
      ]
     },
     "metadata": {},
     "output_type": "display_data"
    },
    {
     "data": {
      "application/vnd.jupyter.widget-view+json": {
       "model_id": "aa264e5a51e64707a95f7efb9ecd4262",
       "version_major": 2,
       "version_minor": 0
      },
      "text/plain": [
       "  0%|          | 0/50 [00:00<?, ?it/s]"
      ]
     },
     "metadata": {},
     "output_type": "display_data"
    },
    {
     "name": "stdout",
     "output_type": "stream",
     "text": [
      "###339###\n"
     ]
    },
    {
     "data": {
      "application/vnd.jupyter.widget-view+json": {
       "model_id": "5b1873fafe7843deb5a90027f419005f",
       "version_major": 2,
       "version_minor": 0
      },
      "text/plain": [
       "  0%|          | 0/50 [00:00<?, ?it/s]"
      ]
     },
     "metadata": {},
     "output_type": "display_data"
    },
    {
     "data": {
      "application/vnd.jupyter.widget-view+json": {
       "model_id": "6bd75e926c0f4bafa094aeed5431206c",
       "version_major": 2,
       "version_minor": 0
      },
      "text/plain": [
       "  0%|          | 0/50 [00:00<?, ?it/s]"
      ]
     },
     "metadata": {},
     "output_type": "display_data"
    },
    {
     "data": {
      "application/vnd.jupyter.widget-view+json": {
       "model_id": "50799ef9c1a143f59d790a6f5bcbb79b",
       "version_major": 2,
       "version_minor": 0
      },
      "text/plain": [
       "  0%|          | 0/50 [00:00<?, ?it/s]"
      ]
     },
     "metadata": {},
     "output_type": "display_data"
    },
    {
     "name": "stdout",
     "output_type": "stream",
     "text": [
      "###340###\n"
     ]
    },
    {
     "data": {
      "application/vnd.jupyter.widget-view+json": {
       "model_id": "1709c5c1c80b466abba8778a95665aea",
       "version_major": 2,
       "version_minor": 0
      },
      "text/plain": [
       "  0%|          | 0/50 [00:00<?, ?it/s]"
      ]
     },
     "metadata": {},
     "output_type": "display_data"
    },
    {
     "data": {
      "application/vnd.jupyter.widget-view+json": {
       "model_id": "6a157041da1144449f211c4dca9fd61e",
       "version_major": 2,
       "version_minor": 0
      },
      "text/plain": [
       "  0%|          | 0/50 [00:00<?, ?it/s]"
      ]
     },
     "metadata": {},
     "output_type": "display_data"
    },
    {
     "data": {
      "application/vnd.jupyter.widget-view+json": {
       "model_id": "51b12b1e582444b8ade914bcffe05697",
       "version_major": 2,
       "version_minor": 0
      },
      "text/plain": [
       "  0%|          | 0/50 [00:00<?, ?it/s]"
      ]
     },
     "metadata": {},
     "output_type": "display_data"
    },
    {
     "name": "stdout",
     "output_type": "stream",
     "text": [
      "###341###\n"
     ]
    },
    {
     "data": {
      "application/vnd.jupyter.widget-view+json": {
       "model_id": "e622df08c4b144c6a064f7d84e5c6363",
       "version_major": 2,
       "version_minor": 0
      },
      "text/plain": [
       "  0%|          | 0/50 [00:00<?, ?it/s]"
      ]
     },
     "metadata": {},
     "output_type": "display_data"
    },
    {
     "data": {
      "application/vnd.jupyter.widget-view+json": {
       "model_id": "da21e24b94694080a9f551cf49698ce3",
       "version_major": 2,
       "version_minor": 0
      },
      "text/plain": [
       "  0%|          | 0/50 [00:00<?, ?it/s]"
      ]
     },
     "metadata": {},
     "output_type": "display_data"
    },
    {
     "data": {
      "application/vnd.jupyter.widget-view+json": {
       "model_id": "b403304f479a4dd78b7f127b441bb590",
       "version_major": 2,
       "version_minor": 0
      },
      "text/plain": [
       "  0%|          | 0/50 [00:00<?, ?it/s]"
      ]
     },
     "metadata": {},
     "output_type": "display_data"
    },
    {
     "name": "stdout",
     "output_type": "stream",
     "text": [
      "###342###\n"
     ]
    },
    {
     "data": {
      "application/vnd.jupyter.widget-view+json": {
       "model_id": "8c71d13d66304e05a45c150595069e40",
       "version_major": 2,
       "version_minor": 0
      },
      "text/plain": [
       "  0%|          | 0/50 [00:00<?, ?it/s]"
      ]
     },
     "metadata": {},
     "output_type": "display_data"
    },
    {
     "data": {
      "application/vnd.jupyter.widget-view+json": {
       "model_id": "0546cb92eb36471faead73ed9e7fe5fc",
       "version_major": 2,
       "version_minor": 0
      },
      "text/plain": [
       "  0%|          | 0/50 [00:00<?, ?it/s]"
      ]
     },
     "metadata": {},
     "output_type": "display_data"
    },
    {
     "data": {
      "application/vnd.jupyter.widget-view+json": {
       "model_id": "60b8f66cdcfe433db36e490474303db1",
       "version_major": 2,
       "version_minor": 0
      },
      "text/plain": [
       "  0%|          | 0/50 [00:00<?, ?it/s]"
      ]
     },
     "metadata": {},
     "output_type": "display_data"
    },
    {
     "name": "stdout",
     "output_type": "stream",
     "text": [
      "###343###\n"
     ]
    },
    {
     "data": {
      "application/vnd.jupyter.widget-view+json": {
       "model_id": "ecac7a62024e4a15b58ae9c724b90a9a",
       "version_major": 2,
       "version_minor": 0
      },
      "text/plain": [
       "  0%|          | 0/50 [00:00<?, ?it/s]"
      ]
     },
     "metadata": {},
     "output_type": "display_data"
    },
    {
     "data": {
      "application/vnd.jupyter.widget-view+json": {
       "model_id": "d0d6c44fe04b40e89aaa31bbe86c56f3",
       "version_major": 2,
       "version_minor": 0
      },
      "text/plain": [
       "  0%|          | 0/50 [00:00<?, ?it/s]"
      ]
     },
     "metadata": {},
     "output_type": "display_data"
    },
    {
     "data": {
      "application/vnd.jupyter.widget-view+json": {
       "model_id": "28dda9372061449bb3d15c6b5415442c",
       "version_major": 2,
       "version_minor": 0
      },
      "text/plain": [
       "  0%|          | 0/50 [00:00<?, ?it/s]"
      ]
     },
     "metadata": {},
     "output_type": "display_data"
    },
    {
     "name": "stdout",
     "output_type": "stream",
     "text": [
      "###344###\n"
     ]
    },
    {
     "data": {
      "application/vnd.jupyter.widget-view+json": {
       "model_id": "8448cc166bed48178425ee424228ab92",
       "version_major": 2,
       "version_minor": 0
      },
      "text/plain": [
       "  0%|          | 0/50 [00:00<?, ?it/s]"
      ]
     },
     "metadata": {},
     "output_type": "display_data"
    },
    {
     "data": {
      "application/vnd.jupyter.widget-view+json": {
       "model_id": "72c7cfa5bc21471f938d50026dc00ce1",
       "version_major": 2,
       "version_minor": 0
      },
      "text/plain": [
       "  0%|          | 0/50 [00:00<?, ?it/s]"
      ]
     },
     "metadata": {},
     "output_type": "display_data"
    },
    {
     "data": {
      "application/vnd.jupyter.widget-view+json": {
       "model_id": "b8a62f562e1644b9aa0880eecaeb877a",
       "version_major": 2,
       "version_minor": 0
      },
      "text/plain": [
       "  0%|          | 0/50 [00:00<?, ?it/s]"
      ]
     },
     "metadata": {},
     "output_type": "display_data"
    },
    {
     "name": "stdout",
     "output_type": "stream",
     "text": [
      "###345###\n"
     ]
    },
    {
     "data": {
      "application/vnd.jupyter.widget-view+json": {
       "model_id": "4591612a14424f83ba62659c0bcde1f4",
       "version_major": 2,
       "version_minor": 0
      },
      "text/plain": [
       "  0%|          | 0/50 [00:00<?, ?it/s]"
      ]
     },
     "metadata": {},
     "output_type": "display_data"
    },
    {
     "data": {
      "application/vnd.jupyter.widget-view+json": {
       "model_id": "a116f2e63c4a44198a5822c2a382728b",
       "version_major": 2,
       "version_minor": 0
      },
      "text/plain": [
       "  0%|          | 0/50 [00:00<?, ?it/s]"
      ]
     },
     "metadata": {},
     "output_type": "display_data"
    },
    {
     "data": {
      "application/vnd.jupyter.widget-view+json": {
       "model_id": "e396b227a36d4322914dc315d2985a1e",
       "version_major": 2,
       "version_minor": 0
      },
      "text/plain": [
       "  0%|          | 0/50 [00:00<?, ?it/s]"
      ]
     },
     "metadata": {},
     "output_type": "display_data"
    },
    {
     "name": "stdout",
     "output_type": "stream",
     "text": [
      "###346###\n"
     ]
    },
    {
     "data": {
      "application/vnd.jupyter.widget-view+json": {
       "model_id": "aac0ed9af9f44e5c8d09cba20bdbdc3f",
       "version_major": 2,
       "version_minor": 0
      },
      "text/plain": [
       "  0%|          | 0/50 [00:00<?, ?it/s]"
      ]
     },
     "metadata": {},
     "output_type": "display_data"
    },
    {
     "data": {
      "application/vnd.jupyter.widget-view+json": {
       "model_id": "8ed1265f1afa4aca8e570c7f8c45702c",
       "version_major": 2,
       "version_minor": 0
      },
      "text/plain": [
       "  0%|          | 0/50 [00:00<?, ?it/s]"
      ]
     },
     "metadata": {},
     "output_type": "display_data"
    },
    {
     "data": {
      "application/vnd.jupyter.widget-view+json": {
       "model_id": "01cc9a9234cc4548bf36b4904b6413e8",
       "version_major": 2,
       "version_minor": 0
      },
      "text/plain": [
       "  0%|          | 0/50 [00:00<?, ?it/s]"
      ]
     },
     "metadata": {},
     "output_type": "display_data"
    },
    {
     "name": "stdout",
     "output_type": "stream",
     "text": [
      "###347###\n"
     ]
    },
    {
     "data": {
      "application/vnd.jupyter.widget-view+json": {
       "model_id": "7f52663ba57f4e739dc3386ba984151d",
       "version_major": 2,
       "version_minor": 0
      },
      "text/plain": [
       "  0%|          | 0/50 [00:00<?, ?it/s]"
      ]
     },
     "metadata": {},
     "output_type": "display_data"
    },
    {
     "data": {
      "application/vnd.jupyter.widget-view+json": {
       "model_id": "d9682b3991474d2d95fbc08e592d019a",
       "version_major": 2,
       "version_minor": 0
      },
      "text/plain": [
       "  0%|          | 0/50 [00:00<?, ?it/s]"
      ]
     },
     "metadata": {},
     "output_type": "display_data"
    },
    {
     "data": {
      "application/vnd.jupyter.widget-view+json": {
       "model_id": "92e2da566cf0453c8cdfb615677960c6",
       "version_major": 2,
       "version_minor": 0
      },
      "text/plain": [
       "  0%|          | 0/50 [00:00<?, ?it/s]"
      ]
     },
     "metadata": {},
     "output_type": "display_data"
    },
    {
     "name": "stdout",
     "output_type": "stream",
     "text": [
      "###348###\n"
     ]
    },
    {
     "data": {
      "application/vnd.jupyter.widget-view+json": {
       "model_id": "e7af2d33b61f4020bd7be8f32a9df492",
       "version_major": 2,
       "version_minor": 0
      },
      "text/plain": [
       "  0%|          | 0/50 [00:00<?, ?it/s]"
      ]
     },
     "metadata": {},
     "output_type": "display_data"
    },
    {
     "data": {
      "application/vnd.jupyter.widget-view+json": {
       "model_id": "682ec6478ec245f6960ef277c917a5d5",
       "version_major": 2,
       "version_minor": 0
      },
      "text/plain": [
       "  0%|          | 0/50 [00:00<?, ?it/s]"
      ]
     },
     "metadata": {},
     "output_type": "display_data"
    },
    {
     "data": {
      "application/vnd.jupyter.widget-view+json": {
       "model_id": "dcb7c1f4532846a5a3359e7efefbb139",
       "version_major": 2,
       "version_minor": 0
      },
      "text/plain": [
       "  0%|          | 0/50 [00:00<?, ?it/s]"
      ]
     },
     "metadata": {},
     "output_type": "display_data"
    },
    {
     "name": "stdout",
     "output_type": "stream",
     "text": [
      "###349###\n"
     ]
    },
    {
     "data": {
      "application/vnd.jupyter.widget-view+json": {
       "model_id": "85e3432ec8c344dfa9ba015c39de8be3",
       "version_major": 2,
       "version_minor": 0
      },
      "text/plain": [
       "  0%|          | 0/50 [00:00<?, ?it/s]"
      ]
     },
     "metadata": {},
     "output_type": "display_data"
    },
    {
     "data": {
      "application/vnd.jupyter.widget-view+json": {
       "model_id": "766ff46d1f664416bf6c65eb8590ce52",
       "version_major": 2,
       "version_minor": 0
      },
      "text/plain": [
       "  0%|          | 0/50 [00:00<?, ?it/s]"
      ]
     },
     "metadata": {},
     "output_type": "display_data"
    },
    {
     "data": {
      "application/vnd.jupyter.widget-view+json": {
       "model_id": "4be893e91493438084a5d80cdd028170",
       "version_major": 2,
       "version_minor": 0
      },
      "text/plain": [
       "  0%|          | 0/50 [00:00<?, ?it/s]"
      ]
     },
     "metadata": {},
     "output_type": "display_data"
    }
   ],
   "source": [
    "# generate images\n",
    "factors = [0, 1, 2]\n",
    "init_seed = 300\n",
    "num_samples = 50\n",
    "prompt = \"A photo of a black cat with a white dog\"\n",
    "\n",
    "modify_h_space_func = modify_down_h_space if 'down' in layer_name else modify_mid_h_space\n",
    "\n",
    "factor2images = {i:[] for i in factors}\n",
    "with torch.no_grad():\n",
    "    for seed in range(init_seed, init_seed + num_samples):\n",
    "        print('###' + str(seed) + '###')\n",
    "        for ind, factor in enumerate(factors):\n",
    "            if 'down' in layer_name:\n",
    "                num = {'zero': 0, 'one': 1, 'two': 2, 'three': 3}[layer_name.split('_')[1]]\n",
    "                hook = pipe.unet.down_blocks[num].register_forward_hook(\n",
    "                    partial(modify_h_space_func, factor=factor, step=[0]))\n",
    "            else:\n",
    "                hook = pipe.unet.mid_block.register_forward_hook(\n",
    "                    partial(modify_h_space_func, factor=factor, step=[0]))\n",
    "                \n",
    "            generator = torch.Generator(device=device).manual_seed(seed)\n",
    "            image = pipe(prompt, generator=generator).images[0]\n",
    "            hook.remove()\n",
    "            factor2images[factor].append(image)\n",
    "\n",
    "with open('/home/royhirsch_google_com/image_editing/cat_dog_images/factor2eval_images.pickle', 'wb') as f:\n",
    "    pickle.dump(factor2images, f)\n"
   ]
  },
  {
   "cell_type": "code",
   "execution_count": null,
   "metadata": {},
   "outputs": [],
   "source": [
    "# pic a score\n",
    "from transformers import AutoProcessor, AutoModel\n",
    "\n",
    "# load model\n",
    "device = \"cuda\"\n",
    "processor_name_or_path = \"laion/CLIP-ViT-H-14-laion2B-s32B-b79K\"\n",
    "model_pretrained_name_or_path = \"yuvalkirstain/PickScore_v1\"\n",
    "\n",
    "processor = AutoProcessor.from_pretrained(processor_name_or_path)\n",
    "model = AutoModel.from_pretrained(model_pretrained_name_or_path).eval().to(device)\n",
    "\n",
    "def calc_probs(prompt, images):\n",
    "    \n",
    "    # preprocess\n",
    "    image_inputs = processor(\n",
    "        images=images,\n",
    "        padding=True,\n",
    "        truncation=True,\n",
    "        max_length=77,\n",
    "        return_tensors=\"pt\",\n",
    "    ).to(device)\n",
    "    \n",
    "    text_inputs = processor(\n",
    "        text=prompt,\n",
    "        padding=True,\n",
    "        truncation=True,\n",
    "        max_length=77,\n",
    "        return_tensors=\"pt\",\n",
    "    ).to(device)\n",
    "\n",
    "\n",
    "    with torch.no_grad():\n",
    "        # embed\n",
    "        image_embs = model.get_image_features(**image_inputs)\n",
    "        image_embs = image_embs / torch.norm(image_embs, dim=-1, keepdim=True)\n",
    "    \n",
    "        text_embs = model.get_text_features(**text_inputs)\n",
    "        text_embs = text_embs / torch.norm(text_embs, dim=-1, keepdim=True)\n",
    "    \n",
    "        # score\n",
    "        scores = model.logit_scale.exp() * (text_embs @ image_embs.T)[0]\n",
    "        \n",
    "        # get probabilities if you have multiple images to choose from\n",
    "        probs = torch.softmax(scores, dim=-1)\n",
    "    \n",
    "    return probs.cpu().tolist()\n",
    "\n",
    "with open('/home/royhirsch_google_com/image_editing/cat_dog_images/factor2eval_images.pickle', 'rb') as f:\n",
    "    factor2images = pickle.load(f)\n",
    "\n",
    "factor2pick_scores = {f:[] for f in factor2images.keys()}\n",
    "for f, pil_images in factor2images.items():\n",
    "    # pil_images = [Image.fromarray(image) for image in images]\n",
    "    factor2pick_scores[f] = np.asarray(calc_probs(prompt, pil_images))"
   ]
  },
  {
   "cell_type": "code",
   "execution_count": 55,
   "metadata": {},
   "outputs": [
    {
     "name": "stdout",
     "output_type": "stream",
     "text": [
      "0.54\n"
     ]
    }
   ],
   "source": [
    "base_scores = factor2pick_scores[0]\n",
    "cand_scores = factor2pick_scores[1]\n",
    "hits = []\n",
    "for b, c in zip(base_scores, cand_scores):\n",
    "    hits.append(c > b)\n",
    "print(np.mean(hits))"
   ]
  },
  {
   "cell_type": "code",
   "execution_count": 36,
   "metadata": {},
   "outputs": [
    {
     "name": "stderr",
     "output_type": "stream",
     "text": [
      "2024-12-21 16:12:05,216 - modelscope - INFO - PyTorch version 2.4.1 Found.\n",
      "2024-12-21 16:12:05,218 - modelscope - INFO - Loading ast index from /home/royhirsch_google_com/.cache/modelscope/ast_indexer\n",
      "2024-12-21 16:12:05,380 - modelscope - INFO - Loading done! Current index file version is 1.15.0, with md5 dd6cd450cea4253ebfcef352dd4b0b56 and a total number of 980 components indexed\n",
      "huggingface/tokenizers: The current process just got forked, after parallelism has already been used. Disabling parallelism to avoid deadlocks...\n",
      "To disable this warning, you can either:\n",
      "\t- Avoid using `tokenizers` before the fork if possible\n",
      "\t- Explicitly set the environment variable TOKENIZERS_PARALLELISM=(true | false)\n"
     ]
    },
    {
     "name": "stdout",
     "output_type": "stream",
     "text": [
      "Loading mplug-large...\n"
     ]
    },
    {
     "name": "stderr",
     "output_type": "stream",
     "text": [
      "2024-12-21 16:12:12,759 - modelscope - WARNING - Model revision not specified, use revision: v1.0.0\n",
      "2024-12-21 16:12:13,238 - modelscope - INFO - initiate model from /home/royhirsch_google_com/.cache/modelscope/hub/damo/mplug_visual-question-answering_coco_large_en\n",
      "2024-12-21 16:12:13,239 - modelscope - INFO - initiate model from location /home/royhirsch_google_com/.cache/modelscope/hub/damo/mplug_visual-question-answering_coco_large_en.\n",
      "2024-12-21 16:12:13,241 - modelscope - INFO - initialize model from /home/royhirsch_google_com/.cache/modelscope/hub/damo/mplug_visual-question-answering_coco_large_en\n",
      "/home/royhirsch_google_com/.local/lib/python3.8/site-packages/timm/models/layers/__init__.py:48: FutureWarning: Importing from timm.models.layers is deprecated, please import via timm.layers\n",
      "  warnings.warn(f\"Importing from {__name__} is deprecated, please import via timm.layers\", FutureWarning)\n",
      "/opt/conda/envs/ml/lib/python3.8/site-packages/transformers/tokenization_utils_base.py:2102: FutureWarning: Calling BertTokenizer.from_pretrained() with the path to a single file or url is deprecated and won't be possible anymore in v5. Use a model identifier or the path to a directory instead.\n",
      "  warnings.warn(\n",
      "/home/royhirsch_google_com/.local/lib/python3.8/site-packages/modelscope/models/multi_modal/mplug/modeling_mplug.py:1873: FutureWarning: You are using `torch.load` with `weights_only=False` (the current default value), which uses the default pickle module implicitly. It is possible to construct malicious pickle data which will execute arbitrary code during unpickling (See https://github.com/pytorch/pytorch/blob/main/SECURITY.md#untrusted-models for more details). In a future release, the default value for `weights_only` will be flipped to `True`. This limits the functions that could be executed during unpickling. Arbitrary objects will no longer be allowed to be loaded via this mode unless they are explicitly allowlisted by the user via `torch.serialization.add_safe_globals`. We recommend you start setting `weights_only=True` for any use case where you don't have full control of the loaded file. Please open an issue on GitHub for any issues related to this experimental feature.\n",
      "  checkpoint = torch.load(checkpoint_path, map_location='cpu')\n"
     ]
    },
    {
     "name": "stdout",
     "output_type": "stream",
     "text": [
      "load checkpoint from /home/royhirsch_google_com/.cache/modelscope/hub/damo/mplug_visual-question-answering_coco_large_en/pytorch_model.bin\n",
      "<All keys matched successfully>\n",
      "Finish loading mplug-large\n",
      "Using SBERT on GPU\n"
     ]
    }
   ],
   "source": [
    "from tifa_utils import TifaAutoRater\n",
    "tifa = TifaAutoRater()"
   ]
  },
  {
   "cell_type": "code",
   "execution_count": 37,
   "metadata": {},
   "outputs": [
    {
     "name": "stderr",
     "output_type": "stream",
     "text": [
      "  0%|          | 0/11 [00:00<?, ?it/s]/opt/conda/envs/ml/lib/python3.8/site-packages/torch/_dynamo/eval_frame.py:600: UserWarning: torch.utils.checkpoint: the use_reentrant parameter should be passed explicitly. In version 2.4 we will raise an exception if use_reentrant is not passed. use_reentrant=False is recommended, but if you need to preserve the current default behavior, you can pass use_reentrant=True. Refer to docs for more details on the differences between the two variants.\n",
      "  return fn(*args, **kwargs)\n",
      "/opt/conda/envs/ml/lib/python3.8/site-packages/torch/utils/checkpoint.py:92: UserWarning: None of the inputs have requires_grad=True. Gradients will be None\n",
      "  warnings.warn(\n",
      "100%|██████████| 11/11 [00:03<00:00,  2.93it/s]\n",
      "100%|██████████| 11/11 [00:01<00:00,  5.66it/s]\n",
      "100%|██████████| 11/11 [00:02<00:00,  5.46it/s]\n",
      "100%|██████████| 11/11 [00:02<00:00,  5.47it/s]\n",
      "100%|██████████| 11/11 [00:02<00:00,  5.41it/s]\n",
      "100%|██████████| 11/11 [00:01<00:00,  5.62it/s]\n",
      "100%|██████████| 11/11 [00:01<00:00,  5.60it/s]\n",
      "100%|██████████| 11/11 [00:02<00:00,  5.36it/s]\n",
      "100%|██████████| 11/11 [00:02<00:00,  5.39it/s]\n",
      "100%|██████████| 11/11 [00:02<00:00,  5.40it/s]\n",
      "100%|██████████| 11/11 [00:02<00:00,  5.27it/s]\n",
      "100%|██████████| 11/11 [00:02<00:00,  5.40it/s]\n",
      "100%|██████████| 11/11 [00:02<00:00,  5.36it/s]\n",
      "100%|██████████| 11/11 [00:02<00:00,  5.10it/s]\n",
      "100%|██████████| 11/11 [00:02<00:00,  5.28it/s]\n",
      "100%|██████████| 11/11 [00:02<00:00,  5.36it/s]\n",
      "100%|██████████| 11/11 [00:02<00:00,  5.45it/s]\n",
      "100%|██████████| 11/11 [00:02<00:00,  5.43it/s]\n",
      "100%|██████████| 11/11 [00:01<00:00,  5.56it/s]\n",
      "100%|██████████| 11/11 [00:01<00:00,  5.60it/s]\n",
      "100%|██████████| 11/11 [00:01<00:00,  5.78it/s]\n",
      "100%|██████████| 11/11 [00:02<00:00,  5.38it/s]\n",
      "100%|██████████| 11/11 [00:02<00:00,  5.40it/s]\n",
      "100%|██████████| 11/11 [00:02<00:00,  5.48it/s]\n",
      "100%|██████████| 11/11 [00:02<00:00,  5.44it/s]\n",
      "100%|██████████| 11/11 [00:01<00:00,  5.59it/s]\n",
      "100%|██████████| 11/11 [00:02<00:00,  5.39it/s]\n",
      "100%|██████████| 11/11 [00:02<00:00,  5.50it/s]\n",
      "100%|██████████| 11/11 [00:02<00:00,  5.38it/s]\n",
      "100%|██████████| 11/11 [00:01<00:00,  5.56it/s]\n",
      "100%|██████████| 11/11 [00:01<00:00,  5.79it/s]\n",
      "100%|██████████| 11/11 [00:01<00:00,  5.58it/s]\n",
      "100%|██████████| 11/11 [00:01<00:00,  5.79it/s]\n",
      "100%|██████████| 11/11 [00:02<00:00,  5.42it/s]\n",
      "100%|██████████| 11/11 [00:01<00:00,  5.64it/s]\n",
      "100%|██████████| 11/11 [00:02<00:00,  5.47it/s]\n",
      "100%|██████████| 11/11 [00:02<00:00,  5.37it/s]\n",
      "100%|██████████| 11/11 [00:02<00:00,  5.35it/s]\n",
      "100%|██████████| 11/11 [00:02<00:00,  5.44it/s]\n",
      "100%|██████████| 11/11 [00:02<00:00,  5.32it/s]\n",
      "100%|██████████| 11/11 [00:02<00:00,  5.43it/s]\n",
      "100%|██████████| 11/11 [00:02<00:00,  5.37it/s]\n",
      "100%|██████████| 11/11 [00:01<00:00,  5.53it/s]\n",
      "100%|██████████| 11/11 [00:02<00:00,  5.43it/s]\n",
      "100%|██████████| 11/11 [00:02<00:00,  5.37it/s]\n",
      "100%|██████████| 11/11 [00:02<00:00,  5.42it/s]\n",
      "100%|██████████| 11/11 [00:01<00:00,  5.58it/s]\n",
      "100%|██████████| 11/11 [00:01<00:00,  5.82it/s]\n",
      "100%|██████████| 11/11 [00:01<00:00,  5.56it/s]\n",
      "100%|██████████| 11/11 [00:01<00:00,  5.60it/s]\n",
      "100%|██████████| 11/11 [00:02<00:00,  5.29it/s]\n",
      "100%|██████████| 11/11 [00:02<00:00,  5.38it/s]\n",
      "100%|██████████| 11/11 [00:02<00:00,  5.41it/s]\n",
      "100%|██████████| 11/11 [00:01<00:00,  5.59it/s]\n",
      "100%|██████████| 11/11 [00:01<00:00,  5.68it/s]\n",
      "100%|██████████| 11/11 [00:01<00:00,  5.54it/s]\n",
      "100%|██████████| 11/11 [00:01<00:00,  5.57it/s]\n",
      "100%|██████████| 11/11 [00:01<00:00,  5.61it/s]\n",
      "100%|██████████| 11/11 [00:02<00:00,  5.40it/s]\n",
      "100%|██████████| 11/11 [00:02<00:00,  5.43it/s]\n",
      "100%|██████████| 11/11 [00:02<00:00,  5.35it/s]\n",
      "100%|██████████| 11/11 [00:02<00:00,  5.33it/s]\n",
      "100%|██████████| 11/11 [00:02<00:00,  5.33it/s]\n",
      "100%|██████████| 11/11 [00:02<00:00,  5.39it/s]\n",
      "100%|██████████| 11/11 [00:02<00:00,  5.31it/s]\n",
      "100%|██████████| 11/11 [00:02<00:00,  5.36it/s]\n",
      "100%|██████████| 11/11 [00:01<00:00,  5.76it/s]\n",
      "100%|██████████| 11/11 [00:01<00:00,  5.60it/s]\n",
      "100%|██████████| 11/11 [00:01<00:00,  5.74it/s]\n",
      "100%|██████████| 11/11 [00:02<00:00,  5.43it/s]\n",
      "100%|██████████| 11/11 [00:02<00:00,  5.38it/s]\n",
      "100%|██████████| 11/11 [00:01<00:00,  5.54it/s]\n",
      "100%|██████████| 11/11 [00:02<00:00,  5.42it/s]\n",
      "100%|██████████| 11/11 [00:02<00:00,  5.37it/s]\n",
      "100%|██████████| 11/11 [00:01<00:00,  5.63it/s]\n",
      "100%|██████████| 11/11 [00:01<00:00,  5.62it/s]\n",
      "100%|██████████| 11/11 [00:02<00:00,  5.38it/s]\n",
      "100%|██████████| 11/11 [00:02<00:00,  5.33it/s]\n",
      "100%|██████████| 11/11 [00:02<00:00,  5.44it/s]\n",
      "100%|██████████| 11/11 [00:01<00:00,  5.82it/s]\n",
      "100%|██████████| 11/11 [00:01<00:00,  5.64it/s]\n",
      "100%|██████████| 11/11 [00:02<00:00,  5.41it/s]\n",
      "100%|██████████| 11/11 [00:01<00:00,  5.81it/s]\n",
      "100%|██████████| 11/11 [00:01<00:00,  5.51it/s]\n",
      "100%|██████████| 11/11 [00:01<00:00,  5.74it/s]\n",
      "100%|██████████| 11/11 [00:01<00:00,  5.58it/s]\n",
      "100%|██████████| 11/11 [00:02<00:00,  5.32it/s]\n",
      "100%|██████████| 11/11 [00:02<00:00,  5.41it/s]\n",
      "100%|██████████| 11/11 [00:02<00:00,  5.44it/s]\n",
      "100%|██████████| 11/11 [00:01<00:00,  5.85it/s]\n",
      "100%|██████████| 11/11 [00:02<00:00,  5.41it/s]\n",
      "100%|██████████| 11/11 [00:02<00:00,  5.38it/s]\n",
      "100%|██████████| 11/11 [00:01<00:00,  5.79it/s]\n",
      "100%|██████████| 11/11 [00:02<00:00,  5.36it/s]\n",
      "100%|██████████| 11/11 [00:02<00:00,  5.47it/s]\n",
      "100%|██████████| 11/11 [00:02<00:00,  5.38it/s]\n",
      "100%|██████████| 11/11 [00:02<00:00,  5.36it/s]\n",
      "100%|██████████| 11/11 [00:01<00:00,  5.78it/s]\n",
      "100%|██████████| 11/11 [00:02<00:00,  5.43it/s]\n",
      "100%|██████████| 11/11 [00:01<00:00,  5.60it/s]\n",
      "100%|██████████| 11/11 [00:01<00:00,  5.56it/s]\n",
      "100%|██████████| 11/11 [00:02<00:00,  5.32it/s]\n",
      "100%|██████████| 11/11 [00:02<00:00,  5.27it/s]\n",
      "100%|██████████| 11/11 [00:02<00:00,  5.33it/s]\n",
      "100%|██████████| 11/11 [00:01<00:00,  5.53it/s]\n",
      "100%|██████████| 11/11 [00:02<00:00,  5.36it/s]\n",
      "100%|██████████| 11/11 [00:01<00:00,  5.81it/s]\n",
      "100%|██████████| 11/11 [00:02<00:00,  5.47it/s]\n",
      "100%|██████████| 11/11 [00:01<00:00,  5.58it/s]\n",
      "100%|██████████| 11/11 [00:02<00:00,  5.48it/s]\n",
      "100%|██████████| 11/11 [00:02<00:00,  5.45it/s]\n",
      "100%|██████████| 11/11 [00:02<00:00,  5.30it/s]\n",
      "100%|██████████| 11/11 [00:01<00:00,  5.63it/s]\n",
      "100%|██████████| 11/11 [00:01<00:00,  5.61it/s]\n",
      "100%|██████████| 11/11 [00:02<00:00,  5.44it/s]\n",
      "100%|██████████| 11/11 [00:01<00:00,  5.59it/s]\n",
      "100%|██████████| 11/11 [00:01<00:00,  5.73it/s]\n",
      "100%|██████████| 11/11 [00:01<00:00,  5.58it/s]\n",
      "100%|██████████| 11/11 [00:01<00:00,  5.52it/s]\n",
      "100%|██████████| 11/11 [00:02<00:00,  5.41it/s]\n",
      "100%|██████████| 11/11 [00:02<00:00,  5.38it/s]\n",
      "100%|██████████| 11/11 [00:01<00:00,  5.78it/s]\n",
      "100%|██████████| 11/11 [00:02<00:00,  5.45it/s]\n",
      "100%|██████████| 11/11 [00:02<00:00,  5.46it/s]\n",
      "100%|██████████| 11/11 [00:02<00:00,  5.44it/s]\n",
      "100%|██████████| 11/11 [00:01<00:00,  5.55it/s]\n",
      "100%|██████████| 11/11 [00:01<00:00,  5.53it/s]\n",
      "100%|██████████| 11/11 [00:01<00:00,  5.62it/s]\n",
      "100%|██████████| 11/11 [00:01<00:00,  5.52it/s]\n",
      "100%|██████████| 11/11 [00:01<00:00,  5.77it/s]\n",
      "100%|██████████| 11/11 [00:01<00:00,  5.80it/s]\n",
      "100%|██████████| 11/11 [00:02<00:00,  5.38it/s]\n",
      "100%|██████████| 11/11 [00:01<00:00,  5.58it/s]\n",
      "100%|██████████| 11/11 [00:02<00:00,  5.44it/s]\n",
      "100%|██████████| 11/11 [00:01<00:00,  5.80it/s]\n",
      "100%|██████████| 11/11 [00:02<00:00,  5.38it/s]\n",
      "100%|██████████| 11/11 [00:01<00:00,  5.67it/s]\n",
      "100%|██████████| 11/11 [00:02<00:00,  5.44it/s]\n",
      "100%|██████████| 11/11 [00:01<00:00,  5.66it/s]\n",
      "100%|██████████| 11/11 [00:01<00:00,  5.66it/s]\n",
      "100%|██████████| 11/11 [00:02<00:00,  5.30it/s]\n",
      "100%|██████████| 11/11 [00:01<00:00,  5.53it/s]\n",
      "100%|██████████| 11/11 [00:01<00:00,  5.84it/s]\n",
      "100%|██████████| 11/11 [00:01<00:00,  5.55it/s]\n",
      "100%|██████████| 11/11 [00:02<00:00,  5.40it/s]\n",
      "100%|██████████| 11/11 [00:02<00:00,  5.40it/s]\n",
      "100%|██████████| 11/11 [00:02<00:00,  5.42it/s]\n",
      "100%|██████████| 11/11 [00:01<00:00,  5.62it/s]\n",
      "100%|██████████| 11/11 [00:02<00:00,  5.35it/s]\n",
      "100%|██████████| 11/11 [00:02<00:00,  5.37it/s]\n"
     ]
    }
   ],
   "source": [
    "factor2tifa_scores = {f:[] for f in factor2images.keys()}\n",
    "for f, pil_images in factor2images.items():\n",
    "    for image in pil_images:\n",
    "        factor2tifa_scores[f].append(tifa.get_score(image, cat_dog_questions))\n",
    "for k, v in factor2tifa_scores.items():\n",
    "    factor2tifa_scores[k] = np.asarray(v)"
   ]
  },
  {
   "cell_type": "code",
   "execution_count": 51,
   "metadata": {},
   "outputs": [
    {
     "data": {
      "image/png": "[encoded data removed]",
      "text/plain": [
       "<Figure size 800x400 with 1 Axes>"
      ]
     },
     "metadata": {},
     "output_type": "display_data"
    }
   ],
   "source": [
    "x = list(factor2tifa_scores.keys())\n",
    "means = np.asarray([np.mean(v) for v in factor2tifa_scores.values()])\n",
    "stds = np.asarray([np.std(v) for v in factor2tifa_scores.values()])\n",
    "plt.figure(figsize=(8, 4))\n",
    "plt.plot(x, means, label='Mean', color='blue')\n",
    "\n",
    "# plt.fill_between(x, means - stds, means + stds, color='blue', alpha=0.2, label='Mean ± Std Dev')\n",
    "\n",
    "# Add labels and legend\n",
    "plt.title(r\"Mean TIFA scores for different values of $\\alpha$\\n(50 eval samples, same prompt)\", fontsize=14)\n",
    "plt.xlabel(r\"$\\alpha$\", fontsize=12)\n",
    "plt.ylabel(\"TIFA score\", fontsize=12)\n",
    "# plt.legend()\n",
    "plt.grid(alpha=0.3)\n",
    "\n",
    "# Show the plot\n",
    "plt.show()\n"
   ]
  },
  {
   "cell_type": "code",
   "execution_count": 56,
   "metadata": {},
   "outputs": [
    {
     "data": {
      "text/plain": [
       "array([0.61272727, 0.64727273, 0.66      ])"
      ]
     },
     "execution_count": 56,
     "metadata": {},
     "output_type": "execute_result"
    }
   ],
   "source": [
    "means"
   ]
  }
 ],
 "metadata": {
  "kernelspec": {
   "display_name": "ml",
   "language": "python",
   "name": "python3"
  },
  "language_info": {
   "codemirror_mode": {
    "name": "ipython",
    "version": 3
   },
   "file_extension": ".py",
   "mimetype": "text/x-python",
   "name": "python",
   "nbconvert_exporter": "python",
   "pygments_lexer": "ipython3",
   "version": "3.8.20"
  }
 },
 "nbformat": 4,
 "nbformat_minor": 2
}
